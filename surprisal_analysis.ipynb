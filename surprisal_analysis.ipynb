{
 "cells": [
  {
   "cell_type": "markdown",
   "metadata": {},
   "source": [
    "## Computing Psychometric Predictive Power of Surprisal"
   ]
  },
  {
   "cell_type": "markdown",
   "metadata": {},
   "source": [
    "This notebook will walk us through how to analyze how language surprisal predicts human reading times. The dataset contains eyetracking data for the Dundee corpus and self-paced reading data from the Natural Stories corpus. It has has been pre-processed for us (I can add code for this as well). In addition to surprisal, we will be using length and log frequency as predictors for reading time. To account for spillover effects (where previous information might affect processing of the current word), we also consider these three features for previous tokens."
   ]
  },
  {
   "cell_type": "code",
   "execution_count": 30,
   "metadata": {
    "vscode": {
     "languageId": "r"
    }
   },
   "outputs": [],
   "source": [
    "library(ggplot2)\n",
    "library(reshape2)\n",
    "library(dplyr)\n",
    "gpt2_data <- read.csv(\"gpt2_surprisal_rts.csv\")"
   ]
  },
  {
   "cell_type": "code",
   "execution_count": 11,
   "metadata": {},
   "outputs": [
    {
     "data": {
      "text/html": [
       "<style>\n",
       ".list-inline {list-style: none; margin:0; padding: 0}\n",
       ".list-inline>li {display: inline-block}\n",
       ".list-inline>li:not(:last-child)::after {content: \"\\00b7\"; padding: 0 .5ex}\n",
       "</style>\n",
       "<ol class=list-inline><li>'token'</li><li>'transcript_id'</li><li>'sentence_id'</li><li>'surprisal'</li><li>'oov'</li><li>'num_tokens'</li><li>'rt'</li><li>'token_uid'</li><li>'exclude_rt'</li><li>'word_length'</li><li>'log_freq'</li><li>'word'</li><li>'prev_freq_1'</li><li>'prev_len_1'</li><li>'prev_surprisal_1'</li><li>'prev_num_tokens_1'</li><li>'corpus'</li><li>'prev_freq_2'</li><li>'prev_len_2'</li><li>'prev_surprisal_2'</li><li>'prev_num_tokens_2'</li><li>'prev_freq_3'</li><li>'prev_len_3'</li><li>'prev_surprisal_3'</li><li>'prev_num_tokens_3'</li><li>'prev_freq_4'</li><li>'prev_len_4'</li><li>'prev_surprisal_4'</li><li>'prev_num_tokens_4'</li></ol>\n"
      ],
      "text/latex": [
       "\\begin{enumerate*}\n",
       "\\item 'token'\n",
       "\\item 'transcript\\_id'\n",
       "\\item 'sentence\\_id'\n",
       "\\item 'surprisal'\n",
       "\\item 'oov'\n",
       "\\item 'num\\_tokens'\n",
       "\\item 'rt'\n",
       "\\item 'token\\_uid'\n",
       "\\item 'exclude\\_rt'\n",
       "\\item 'word\\_length'\n",
       "\\item 'log\\_freq'\n",
       "\\item 'word'\n",
       "\\item 'prev\\_freq\\_1'\n",
       "\\item 'prev\\_len\\_1'\n",
       "\\item 'prev\\_surprisal\\_1'\n",
       "\\item 'prev\\_num\\_tokens\\_1'\n",
       "\\item 'corpus'\n",
       "\\item 'prev\\_freq\\_2'\n",
       "\\item 'prev\\_len\\_2'\n",
       "\\item 'prev\\_surprisal\\_2'\n",
       "\\item 'prev\\_num\\_tokens\\_2'\n",
       "\\item 'prev\\_freq\\_3'\n",
       "\\item 'prev\\_len\\_3'\n",
       "\\item 'prev\\_surprisal\\_3'\n",
       "\\item 'prev\\_num\\_tokens\\_3'\n",
       "\\item 'prev\\_freq\\_4'\n",
       "\\item 'prev\\_len\\_4'\n",
       "\\item 'prev\\_surprisal\\_4'\n",
       "\\item 'prev\\_num\\_tokens\\_4'\n",
       "\\end{enumerate*}\n"
      ],
      "text/markdown": [
       "1. 'token'\n",
       "2. 'transcript_id'\n",
       "3. 'sentence_id'\n",
       "4. 'surprisal'\n",
       "5. 'oov'\n",
       "6. 'num_tokens'\n",
       "7. 'rt'\n",
       "8. 'token_uid'\n",
       "9. 'exclude_rt'\n",
       "10. 'word_length'\n",
       "11. 'log_freq'\n",
       "12. 'word'\n",
       "13. 'prev_freq_1'\n",
       "14. 'prev_len_1'\n",
       "15. 'prev_surprisal_1'\n",
       "16. 'prev_num_tokens_1'\n",
       "17. 'corpus'\n",
       "18. 'prev_freq_2'\n",
       "19. 'prev_len_2'\n",
       "20. 'prev_surprisal_2'\n",
       "21. 'prev_num_tokens_2'\n",
       "22. 'prev_freq_3'\n",
       "23. 'prev_len_3'\n",
       "24. 'prev_surprisal_3'\n",
       "25. 'prev_num_tokens_3'\n",
       "26. 'prev_freq_4'\n",
       "27. 'prev_len_4'\n",
       "28. 'prev_surprisal_4'\n",
       "29. 'prev_num_tokens_4'\n",
       "\n",
       "\n"
      ],
      "text/plain": [
       " [1] \"token\"             \"transcript_id\"     \"sentence_id\"      \n",
       " [4] \"surprisal\"         \"oov\"               \"num_tokens\"       \n",
       " [7] \"rt\"                \"token_uid\"         \"exclude_rt\"       \n",
       "[10] \"word_length\"       \"log_freq\"          \"word\"             \n",
       "[13] \"prev_freq_1\"       \"prev_len_1\"        \"prev_surprisal_1\" \n",
       "[16] \"prev_num_tokens_1\" \"corpus\"            \"prev_freq_2\"      \n",
       "[19] \"prev_len_2\"        \"prev_surprisal_2\"  \"prev_num_tokens_2\"\n",
       "[22] \"prev_freq_3\"       \"prev_len_3\"        \"prev_surprisal_3\" \n",
       "[25] \"prev_num_tokens_3\" \"prev_freq_4\"       \"prev_len_4\"       \n",
       "[28] \"prev_surprisal_4\"  \"prev_num_tokens_4\""
      ]
     },
     "metadata": {},
     "output_type": "display_data"
    }
   ],
   "source": [
    "colnames(gpt2_data)"
   ]
  },
  {
   "cell_type": "code",
   "execution_count": 8,
   "metadata": {},
   "outputs": [
    {
     "data": {
      "text/html": [
       "<table class=\"dataframe\">\n",
       "<caption>A data.frame: 6 × 29</caption>\n",
       "<thead>\n",
       "\t<tr><th></th><th scope=col>token</th><th scope=col>transcript_id</th><th scope=col>sentence_id</th><th scope=col>surprisal</th><th scope=col>oov</th><th scope=col>num_tokens</th><th scope=col>rt</th><th scope=col>token_uid</th><th scope=col>exclude_rt</th><th scope=col>word_length</th><th scope=col>⋯</th><th scope=col>prev_surprisal_2</th><th scope=col>prev_num_tokens_2</th><th scope=col>prev_freq_3</th><th scope=col>prev_len_3</th><th scope=col>prev_surprisal_3</th><th scope=col>prev_num_tokens_3</th><th scope=col>prev_freq_4</th><th scope=col>prev_len_4</th><th scope=col>prev_surprisal_4</th><th scope=col>prev_num_tokens_4</th></tr>\n",
       "\t<tr><th></th><th scope=col>&lt;chr&gt;</th><th scope=col>&lt;int&gt;</th><th scope=col>&lt;int&gt;</th><th scope=col>&lt;dbl&gt;</th><th scope=col>&lt;chr&gt;</th><th scope=col>&lt;int&gt;</th><th scope=col>&lt;dbl&gt;</th><th scope=col>&lt;int&gt;</th><th scope=col>&lt;int&gt;</th><th scope=col>&lt;int&gt;</th><th scope=col>⋯</th><th scope=col>&lt;dbl&gt;</th><th scope=col>&lt;dbl&gt;</th><th scope=col>&lt;dbl&gt;</th><th scope=col>&lt;dbl&gt;</th><th scope=col>&lt;dbl&gt;</th><th scope=col>&lt;dbl&gt;</th><th scope=col>&lt;dbl&gt;</th><th scope=col>&lt;dbl&gt;</th><th scope=col>&lt;dbl&gt;</th><th scope=col>&lt;dbl&gt;</th></tr>\n",
       "</thead>\n",
       "<tbody>\n",
       "\t<tr><th scope=row>1</th><td>renaissance</td><td>13</td><td>0</td><td>16.9963360</td><td>False</td><td>1</td><td>396.4000</td><td>1</td><td>0</td><td>11</td><td>⋯</td><td>NA</td><td>NA</td><td>NA</td><td>NA</td><td>NA</td><td>NA</td><td>NA</td><td>NA</td><td>NA</td><td>NA</td></tr>\n",
       "\t<tr><th scope=row>2</th><td>in         </td><td>13</td><td>0</td><td> 4.7848325</td><td>False</td><td>1</td><td>163.2500</td><td>2</td><td>0</td><td> 2</td><td>⋯</td><td>NA</td><td>NA</td><td>NA</td><td>NA</td><td>NA</td><td>NA</td><td>NA</td><td>NA</td><td>NA</td><td>NA</td></tr>\n",
       "\t<tr><th scope=row>3</th><td>is         </td><td>13</td><td>0</td><td> 3.5461557</td><td>False</td><td>1</td><td>185.0000</td><td>5</td><td>0</td><td> 2</td><td>⋯</td><td>NA</td><td>NA</td><td>NA</td><td>NA</td><td>NA</td><td>NA</td><td>NA</td><td>NA</td><td>NA</td><td>NA</td></tr>\n",
       "\t<tr><th scope=row>4</th><td>turning    </td><td>13</td><td>0</td><td>10.2781897</td><td>False</td><td>1</td><td>326.7778</td><td>6</td><td>0</td><td> 7</td><td>⋯</td><td>NA</td><td>NA</td><td>NA</td><td>NA</td><td>NA</td><td>NA</td><td>NA</td><td>NA</td><td>NA</td><td>NA</td></tr>\n",
       "\t<tr><th scope=row>5</th><td>out        </td><td>13</td><td>0</td><td> 2.4884927</td><td>False</td><td>1</td><td>186.8000</td><td>7</td><td>0</td><td> 3</td><td>⋯</td><td>NA</td><td>NA</td><td>NA</td><td>NA</td><td>NA</td><td>NA</td><td>NA</td><td>NA</td><td>NA</td><td>NA</td></tr>\n",
       "\t<tr><th scope=row>6</th><td>to         </td><td>13</td><td>0</td><td> 0.3600574</td><td>False</td><td>1</td><td>214.7500</td><td>8</td><td>0</td><td> 2</td><td>⋯</td><td>NA</td><td>NA</td><td>NA</td><td>NA</td><td>NA</td><td>NA</td><td>NA</td><td>NA</td><td>NA</td><td>NA</td></tr>\n",
       "</tbody>\n",
       "</table>\n"
      ],
      "text/latex": [
       "A data.frame: 6 × 29\n",
       "\\begin{tabular}{r|lllllllllllllllllllll}\n",
       "  & token & transcript\\_id & sentence\\_id & surprisal & oov & num\\_tokens & rt & token\\_uid & exclude\\_rt & word\\_length & ⋯ & prev\\_surprisal\\_2 & prev\\_num\\_tokens\\_2 & prev\\_freq\\_3 & prev\\_len\\_3 & prev\\_surprisal\\_3 & prev\\_num\\_tokens\\_3 & prev\\_freq\\_4 & prev\\_len\\_4 & prev\\_surprisal\\_4 & prev\\_num\\_tokens\\_4\\\\\n",
       "  & <chr> & <int> & <int> & <dbl> & <chr> & <int> & <dbl> & <int> & <int> & <int> & ⋯ & <dbl> & <dbl> & <dbl> & <dbl> & <dbl> & <dbl> & <dbl> & <dbl> & <dbl> & <dbl>\\\\\n",
       "\\hline\n",
       "\t1 & renaissance & 13 & 0 & 16.9963360 & False & 1 & 396.4000 & 1 & 0 & 11 & ⋯ & NA & NA & NA & NA & NA & NA & NA & NA & NA & NA\\\\\n",
       "\t2 & in          & 13 & 0 &  4.7848325 & False & 1 & 163.2500 & 2 & 0 &  2 & ⋯ & NA & NA & NA & NA & NA & NA & NA & NA & NA & NA\\\\\n",
       "\t3 & is          & 13 & 0 &  3.5461557 & False & 1 & 185.0000 & 5 & 0 &  2 & ⋯ & NA & NA & NA & NA & NA & NA & NA & NA & NA & NA\\\\\n",
       "\t4 & turning     & 13 & 0 & 10.2781897 & False & 1 & 326.7778 & 6 & 0 &  7 & ⋯ & NA & NA & NA & NA & NA & NA & NA & NA & NA & NA\\\\\n",
       "\t5 & out         & 13 & 0 &  2.4884927 & False & 1 & 186.8000 & 7 & 0 &  3 & ⋯ & NA & NA & NA & NA & NA & NA & NA & NA & NA & NA\\\\\n",
       "\t6 & to          & 13 & 0 &  0.3600574 & False & 1 & 214.7500 & 8 & 0 &  2 & ⋯ & NA & NA & NA & NA & NA & NA & NA & NA & NA & NA\\\\\n",
       "\\end{tabular}\n"
      ],
      "text/markdown": [
       "\n",
       "A data.frame: 6 × 29\n",
       "\n",
       "| <!--/--> | token &lt;chr&gt; | transcript_id &lt;int&gt; | sentence_id &lt;int&gt; | surprisal &lt;dbl&gt; | oov &lt;chr&gt; | num_tokens &lt;int&gt; | rt &lt;dbl&gt; | token_uid &lt;int&gt; | exclude_rt &lt;int&gt; | word_length &lt;int&gt; | ⋯ ⋯ | prev_surprisal_2 &lt;dbl&gt; | prev_num_tokens_2 &lt;dbl&gt; | prev_freq_3 &lt;dbl&gt; | prev_len_3 &lt;dbl&gt; | prev_surprisal_3 &lt;dbl&gt; | prev_num_tokens_3 &lt;dbl&gt; | prev_freq_4 &lt;dbl&gt; | prev_len_4 &lt;dbl&gt; | prev_surprisal_4 &lt;dbl&gt; | prev_num_tokens_4 &lt;dbl&gt; |\n",
       "|---|---|---|---|---|---|---|---|---|---|---|---|---|---|---|---|---|---|---|---|---|---|\n",
       "| 1 | renaissance | 13 | 0 | 16.9963360 | False | 1 | 396.4000 | 1 | 0 | 11 | ⋯ | NA | NA | NA | NA | NA | NA | NA | NA | NA | NA |\n",
       "| 2 | in          | 13 | 0 |  4.7848325 | False | 1 | 163.2500 | 2 | 0 |  2 | ⋯ | NA | NA | NA | NA | NA | NA | NA | NA | NA | NA |\n",
       "| 3 | is          | 13 | 0 |  3.5461557 | False | 1 | 185.0000 | 5 | 0 |  2 | ⋯ | NA | NA | NA | NA | NA | NA | NA | NA | NA | NA |\n",
       "| 4 | turning     | 13 | 0 | 10.2781897 | False | 1 | 326.7778 | 6 | 0 |  7 | ⋯ | NA | NA | NA | NA | NA | NA | NA | NA | NA | NA |\n",
       "| 5 | out         | 13 | 0 |  2.4884927 | False | 1 | 186.8000 | 7 | 0 |  3 | ⋯ | NA | NA | NA | NA | NA | NA | NA | NA | NA | NA |\n",
       "| 6 | to          | 13 | 0 |  0.3600574 | False | 1 | 214.7500 | 8 | 0 |  2 | ⋯ | NA | NA | NA | NA | NA | NA | NA | NA | NA | NA |\n",
       "\n"
      ],
      "text/plain": [
       "  token       transcript_id sentence_id surprisal  oov   num_tokens rt      \n",
       "1 renaissance 13            0           16.9963360 False 1          396.4000\n",
       "2 in          13            0            4.7848325 False 1          163.2500\n",
       "3 is          13            0            3.5461557 False 1          185.0000\n",
       "4 turning     13            0           10.2781897 False 1          326.7778\n",
       "5 out         13            0            2.4884927 False 1          186.8000\n",
       "6 to          13            0            0.3600574 False 1          214.7500\n",
       "  token_uid exclude_rt word_length ⋯ prev_surprisal_2 prev_num_tokens_2\n",
       "1 1         0          11          ⋯ NA               NA               \n",
       "2 2         0           2          ⋯ NA               NA               \n",
       "3 5         0           2          ⋯ NA               NA               \n",
       "4 6         0           7          ⋯ NA               NA               \n",
       "5 7         0           3          ⋯ NA               NA               \n",
       "6 8         0           2          ⋯ NA               NA               \n",
       "  prev_freq_3 prev_len_3 prev_surprisal_3 prev_num_tokens_3 prev_freq_4\n",
       "1 NA          NA         NA               NA                NA         \n",
       "2 NA          NA         NA               NA                NA         \n",
       "3 NA          NA         NA               NA                NA         \n",
       "4 NA          NA         NA               NA                NA         \n",
       "5 NA          NA         NA               NA                NA         \n",
       "6 NA          NA         NA               NA                NA         \n",
       "  prev_len_4 prev_surprisal_4 prev_num_tokens_4\n",
       "1 NA         NA               NA               \n",
       "2 NA         NA               NA               \n",
       "3 NA         NA               NA               \n",
       "4 NA         NA               NA               \n",
       "5 NA         NA               NA               \n",
       "6 NA         NA               NA               "
      ]
     },
     "metadata": {},
     "output_type": "display_data"
    }
   ],
   "source": [
    "head(gpt2_data)"
   ]
  },
  {
   "cell_type": "markdown",
   "metadata": {},
   "source": [
    "We now separate the data by corpus."
   ]
  },
  {
   "cell_type": "code",
   "execution_count": 19,
   "metadata": {
    "vscode": {
     "languageId": "r"
    }
   },
   "outputs": [],
   "source": [
    "dundee_gpt <- gpt2_data[gpt2_data$corpus == \"dundee\",]\n",
    "natural_stories_gpt <- gpt2_data[gpt2_data$corpus == \"natural_stories\",]"
   ]
  },
  {
   "cell_type": "markdown",
   "metadata": {},
   "source": [
    "We use formulas following [Wilcox et al (2020](https://arxiv.org/abs/2006.01912). We compute the psychometric predictive power as the per-token Delta Log Likelihood - or how much a model that considers surprisal as a feature improves over the control predictors of length and log frequency. This is the model's aggregate log likelihood normalized over the number of tokens in the corpus.\n",
    "\n",
    "The formulas for Dundee and Natural Stories are different since the spillover effects for self paced reading data are longer than eyetracking data. So for the Dundee corpus we consider the previous word's surprisal, and for the Natural Stories corpus we look at the previous three words.\n",
    "\n",
    "We use a generalized linear model (GLM), following previous work showing a linear relationship between surprisal and reading time. "
   ]
  },
  {
   "cell_type": "code",
   "execution_count": 20,
   "metadata": {
    "vscode": {
     "languageId": "r"
    }
   },
   "outputs": [],
   "source": [
    "et_control_formula <- 'rt ~ log_freq * word_length + prev_freq_1 * prev_len_1'\n",
    "et_surprisal_formula <- 'rt ~ surprisal + prev_surprisal_1 + log_freq * word_length + prev_freq_1 * prev_len_1'\n",
    "\n",
    "spr_control_formula <- 'rt ~ log_freq * word_length + prev_freq_1 * prev_len_1 + prev_freq_2 * prev_len_2 + prev_freq_3 * prev_len_3'\n",
    "spr_surprisal_formula <- 'rt ~ surprisal + prev_surprisal_1 + prev_surprisal_2 + prev_surprisal_3 + log_freq * word_length + prev_freq_1 * prev_len_1 + prev_freq_2 * prev_len_2 + prev_freq_3 * prev_len_3'"
   ]
  },
  {
   "cell_type": "code",
   "execution_count": 21,
   "metadata": {
    "vscode": {
     "languageId": "r"
    }
   },
   "outputs": [],
   "source": [
    "predictive_power <- function(data, control_formula, surprisal_formula, tokenization, log_values) {\n",
    "    control_model <- glm(control_formula, data, family = 'gaussian')\n",
    "    surprisal_model <- glm(surprisal_formula, data, family = 'gaussian')\n",
    "    if (log_values) {\n",
    "        print(tokenization)\n",
    "        print(summary(surprisal_model)$coefficients)\n",
    "    }\n",
    "    (logLik(surprisal_model) - logLik(control_model)) / nrow(data)\n",
    "}"
   ]
  },
  {
   "cell_type": "markdown",
   "metadata": {},
   "source": [
    "Here, where we call the `predictive_power` function, we also get the features associated with the regression models. Overall, surprisal is a statistically significant predictor of reading time and the predictive power is over 1, so that tells us that surprisal does tell us something that word length and frequency don't. "
   ]
  },
  {
   "cell_type": "markdown",
   "metadata": {},
   "source": [
    "Results for the Dundee corpus"
   ]
  },
  {
   "cell_type": "code",
   "execution_count": 22,
   "metadata": {
    "vscode": {
     "languageId": "r"
    }
   },
   "outputs": [
    {
     "name": "stdout",
     "output_type": "stream",
     "text": [
      "[1] \"bpe\"\n",
      "                          Estimate Std. Error    t value     Pr(>|t|)\n",
      "(Intercept)            220.2726663 4.25017300  51.826753 0.000000e+00\n",
      "surprisal                1.8340967 0.09499248  19.307809 1.201773e-82\n",
      "prev_surprisal_1         0.8558745 0.09024642   9.483750 2.596678e-21\n",
      "log_freq                 5.5268917 0.95210122   5.804941 6.492396e-09\n",
      "word_length             -0.7408914 0.69248186  -1.069907 2.846681e-01\n",
      "prev_freq_1              2.4640931 0.95458146   2.581333 9.845835e-03\n",
      "prev_len_1              -8.8410591 0.70087316 -12.614350 2.099166e-36\n",
      "log_freq:word_length    -2.7657004 0.16713078 -16.548122 2.772926e-61\n",
      "prev_freq_1:prev_len_1  -1.1447509 0.16959805  -6.749788 1.502861e-11\n"
     ]
    },
    {
     "data": {
      "text/plain": [
       "'log Lik.' 0.006696996 (df=10)"
      ]
     },
     "metadata": {},
     "output_type": "display_data"
    }
   ],
   "source": [
    "predictive_power(dundee_gpt, et_control_formula, et_surprisal_formula, \"bpe\", TRUE)"
   ]
  },
  {
   "cell_type": "markdown",
   "metadata": {},
   "source": [
    "Results for the Natural Stories corpus"
   ]
  },
  {
   "cell_type": "code",
   "execution_count": 23,
   "metadata": {
    "vscode": {
     "languageId": "r"
    }
   },
   "outputs": [
    {
     "name": "stdout",
     "output_type": "stream",
     "text": [
      "[1] \"bpe\"\n",
      "                           Estimate Std. Error    t value     Pr(>|t|)\n",
      "(Intercept)            317.67153186 6.89744827 46.0563848 0.000000e+00\n",
      "surprisal                1.03500218 0.09937174 10.4154583 3.356685e-25\n",
      "prev_surprisal_1         0.45831894 0.09285295  4.9359651 8.178487e-07\n",
      "prev_surprisal_2         0.12933909 0.08762222  1.4760992 1.399667e-01\n",
      "prev_surprisal_3         0.07842217 0.08743729  0.8968962 3.698082e-01\n",
      "log_freq                 3.70192901 0.99005608  3.7391104 1.862929e-04\n",
      "word_length             -3.88473964 0.78228422 -4.9658929 7.016736e-07\n",
      "prev_freq_1              0.71545150 1.02279355  0.6995072 4.842606e-01\n",
      "prev_len_1              -2.24576078 0.80689800 -2.7832028 5.398384e-03\n",
      "prev_freq_2             -0.75211580 0.98009692 -0.7673892 4.428786e-01\n",
      "prev_len_2               0.14034742 0.79757645  0.1759674 8.603252e-01\n",
      "prev_freq_3              0.41829672 0.95890954  0.4362213 6.626910e-01\n",
      "prev_len_3              -0.91624883 0.78640404 -1.1651121 2.440173e-01\n",
      "log_freq:word_length    -1.46334017 0.19128828 -7.6499208 2.309062e-14\n",
      "prev_freq_1:prev_len_1  -0.79319440 0.19849362 -3.9960700 6.512951e-05\n",
      "prev_freq_2:prev_len_2  -0.14426272 0.19248566 -0.7494726 4.536001e-01\n",
      "prev_freq_3:prev_len_3  -0.31038358 0.18895307 -1.6426490 1.005050e-01\n"
     ]
    },
    {
     "data": {
      "text/plain": [
       "'log Lik.' 0.01084273 (df=18)"
      ]
     },
     "metadata": {},
     "output_type": "display_data"
    }
   ],
   "source": [
    "predictive_power(natural_stories_gpt, spr_control_formula, spr_surprisal_formula, \"bpe\", TRUE)"
   ]
  },
  {
   "cell_type": "markdown",
   "metadata": {},
   "source": [
    "One issue with training one regression model on the entire dataset is that it is being evaluated on data it was trained on. To address this issue, we perform 10-fold cross-validation, where a model is trained on a random selection of 9/10 of the data and evaluated on 1/10 of the data. This process runs 10 times, such that each tenth of the data gets to be the validation set. We then make a boxplot of the predictive power values."
   ]
  },
  {
   "cell_type": "code",
   "execution_count": 24,
   "metadata": {
    "vscode": {
     "languageId": "r"
    }
   },
   "outputs": [],
   "source": [
    "test_data_loglik <- function(model, test_data) {\n",
    "    predictions <- predict(model, test_data)\n",
    "    stdev <- sigma(model)\n",
    "    dnorm(test_data$rt, predictions, stdev, log = TRUE)\n",
    "}\n",
    "\n",
    "cross_validate <- function(data, indices, control_formula, surprisal_formula) {\n",
    "    data<-data[indices,]\n",
    "    folds <- cut(seq(1,nrow(data)),breaks=10,labels=FALSE) # this is the same for each model\n",
    "    predictive_power <- seq(1:10)\n",
    "    for(i in 1:10){\n",
    "        test_indices <- which(folds==i)\n",
    "        test_data <- data[test_indices, ]\n",
    "        train_data <- data[-test_indices, ]\n",
    "        fold_control_model <- glm(control_formula, train_data, family = 'gaussian')\n",
    "        fold_surprisal_model <- glm(surprisal_formula, train_data, family = 'gaussian')\n",
    "        surprisal_diff <- test_data_loglik(fold_surprisal_model, test_data) - test_data_loglik(fold_control_model, test_data)\n",
    "        predictive_power[i] <- mean(surprisal_diff) # summed per-token log likelihoods, divided by number of tokens \n",
    "        }\n",
    "    predictive_power\n",
    "}"
   ]
  },
  {
   "cell_type": "code",
   "execution_count": 31,
   "metadata": {
    "vscode": {
     "languageId": "r"
    }
   },
   "outputs": [
    {
     "name": "stderr",
     "output_type": "stream",
     "text": [
      "No id variables; using all as measure variables\n",
      "\n"
     ]
    }
   ],
   "source": [
    "dundee_shuffled <- sample(nrow(dundee_gpt))\n",
    "ns_shuffled <- sample(nrow(natural_stories_gpt))\n",
    "cv_results <- data.frame(dundee = cross_validate(dundee_gpt, dundee_shuffled, et_control_formula, et_surprisal_formula),\n",
    "natural_stories = cross_validate(natural_stories_gpt, ns_shuffled, spr_control_formula, spr_surprisal_formula)\n",
    ")\n",
    "cv_results <- melt(cv_results)"
   ]
  },
  {
   "cell_type": "code",
   "execution_count": 36,
   "metadata": {
    "vscode": {
     "languageId": "r"
    }
   },
   "outputs": [
    {
     "data": {
      "image/png": "[encoded data removed]",
      "text/plain": [
       "plot without title"
      ]
     },
     "metadata": {
      "image/png": {
       "height": 420,
       "width": 420
      }
     },
     "output_type": "display_data"
    }
   ],
   "source": [
    "plot <- ggplot(cv_results, aes(x=variable, y = value, color = variable)) + geom_boxplot()\n",
    "plot + ylab(expression(paste(Delta, \"LogLik\"))) + xlab(\"Corpus\") + labs(title = \"Psychometric Predictive Power of GPT2 Surprisal\")"
   ]
  },
  {
   "cell_type": "markdown",
   "metadata": {},
   "source": [
    "The Natural Stories corpus is larger and more syntactically complex, so the variance in predictive power could be higher for this reason."
   ]
  }
 ],
 "metadata": {
  "kernelspec": {
   "display_name": "R",
   "language": "R",
   "name": "ir"
  },
  "language_info": {
   "codemirror_mode": "r",
   "file_extension": ".r",
   "mimetype": "text/x-r-source",
   "name": "R",
   "pygments_lexer": "r",
   "version": "4.0.2"
  }
 },
 "nbformat": 4,
 "nbformat_minor": 2
}
